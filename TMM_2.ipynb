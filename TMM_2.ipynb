{
 "cells": [
  {
   "cell_type": "code",
   "execution_count": 2,
   "metadata": {},
   "outputs": [
    {
     "name": "stderr",
     "output_type": "stream",
     "text": [
      "C:\\Users\\AdminTechnik\\AppData\\Local\\Temp\\ipykernel_11020\\2326927397.py:8: DeprecationWarning: \n",
      "Pyarrow will become a required dependency of pandas in the next major release of pandas (pandas 3.0),\n",
      "(to allow more performant data types, such as the Arrow string type, and better interoperability with other libraries)\n",
      "but was not found to be installed on your system.\n",
      "If this would cause problems for you,\n",
      "please provide us feedback at https://github.com/pandas-dev/pandas/issues/54466\n",
      "        \n",
      "  import pandas as pd\n"
     ]
    }
   ],
   "source": [
    "from __future__ import division, print_function, absolute_import\n",
    "\n",
    "from tmm import (coh_tmm, color, unpolarized_RT, ellips,\n",
    "                       position_resolved, find_in_structure_with_inf)\n",
    "\n",
    "import numpy as np\n",
    "from numpy import pi, linspace, inf, array, arange\n",
    "import pandas as pd  \n",
    "from scipy.interpolate import interp1d\n",
    "import matplotlib.pyplot as plt\n",
    "import math\n",
    "\n",
    "%matplotlib inline\n",
    "\n",
    "degree = pi/180"
   ]
  },
  {
   "cell_type": "code",
   "execution_count": 3,
   "metadata": {},
   "outputs": [],
   "source": [
    "Ag  = pd.read_table(\"C:\\\\Users\\AdminTechnik\\\\Documents\\\\Python\\\\Ag.txt\")\n",
    "#set values for the wavelengths,n,k of Ag\n",
    "n_Ag=Ag.iloc[:,1]\n",
    "wl_Ag = Ag.iloc[:,0]\n",
    "k_Ag=Ag.iloc[:,2]\n",
    "\n",
    "#create array for silver \n",
    "#first set an empty complex array \n",
    "material_nk_data = np.zeros((len(wl_Ag),2),dtype=complex)\n",
    "\n",
    "for i in range(len(wl_Ag)):\n",
    "    material_nk_data[i,0] = complex(wl_Ag.iloc[i],0)\n",
    "    material_nk_data[i,1] = complex(n_Ag.iloc[i],k_Ag.iloc[i])"
   ]
  },
  {
   "cell_type": "code",
   "execution_count": 4,
   "metadata": {},
   "outputs": [],
   "source": [
    "Si  = pd.read_table(\"C:\\\\Users\\AdminTechnik\\\\Documents\\\\Python\\\\Si.txt\")\n",
    "#set values for the wavelengths,n,k of Si\n",
    "n_Si=Si.iloc[:,1]\n",
    "wl_Si = Si.iloc[:,0]\n",
    "k_Si=Si.iloc[:,2]\n",
    "\n",
    "#create array for si\n",
    "#first set an empty complex array \n",
    "material_nk_data_Si = np.zeros((len(wl_Si),2),dtype=complex)\n",
    "\n",
    "for i in range(len(wl_Si)):\n",
    "    material_nk_data_Si[i,0] = complex(wl_Si.iloc[i],0)\n",
    "    material_nk_data_Si[i,1] = complex(n_Si.iloc[i],k_Si.iloc[i])"
   ]
  },
  {
   "cell_type": "code",
   "execution_count": 5,
   "metadata": {},
   "outputs": [],
   "source": [
    "Gr  = pd.read_table(\"C:\\\\Users\\AdminTechnik\\\\Documents\\\\Python\\\\Gr.txt\", encoding=\"utf8\")\n",
    "#encoded from a .csv --> .txt MS DOS \n",
    "#set values for the wavelengths,n,k of graphene\n",
    "n_Gr=Gr.iloc[:,1]\n",
    "wl_Gr = Gr.iloc[:,0]\n",
    "k_Gr=Gr.iloc[:,2]\n",
    "\n",
    "#create array for graphene \n",
    "#first set an empty complex array \n",
    "material_nk_data_Gr = np.zeros((len(wl_Gr),2),dtype=complex)\n",
    "\n",
    "for i in range(len(wl_Gr)):\n",
    "    material_nk_data_Gr[i,0] = complex(wl_Gr.iloc[i],0)\n",
    "    material_nk_data_Gr[i,1] = complex(n_Gr.iloc[i],k_Gr.iloc[i])"
   ]
  },
  {
   "cell_type": "code",
   "execution_count": 6,
   "metadata": {},
   "outputs": [],
   "source": [
    "SiO2  = pd.read_table(\"C:\\\\Users\\AdminTechnik\\\\Documents\\\\Python\\\\SiO2.txt\")\n",
    "#set values for the wavelengths,n,k of SiO2\n",
    "n_SiO2=SiO2.iloc[:,1]\n",
    "wl_SiO2 = SiO2.iloc[:,0]\n",
    "k_SiO2=SiO2.iloc[:,2]\n",
    "\n",
    "#create array for sio2 \n",
    "#first set an empty complex array \n",
    "material_nk_data_SiO2 = np.zeros((len(wl_SiO2),2),dtype=complex)\n",
    "\n",
    "for i in range(len(wl_SiO2)):\n",
    "    material_nk_data_SiO2[i,0] = complex(wl_SiO2.iloc[i],0)\n",
    "    material_nk_data_SiO2[i,1] = complex(n_SiO2.iloc[i],k_SiO2.iloc[i])\n",
    "    \n"
   ]
  },
  {
   "cell_type": "code",
   "execution_count": 7,
   "metadata": {},
   "outputs": [],
   "source": [
    "Al2O3  = pd.read_table(\"C:\\\\Users\\AdminTechnik\\\\Documents\\\\Python\\\\Al2O3_filmetrix.txt\", encoding=\"utf8\")\n",
    "#set values for the wavelengths,n,k of Al2O3\n",
    "n_Al2O3=Al2O3.iloc[:,1]\n",
    "wl_Al2O3 = Al2O3.iloc[:,0]\n",
    "k_Al2O3=Al2O3.iloc[:,2]\n",
    "\n",
    "#create array for Al2O3 \n",
    "#first set an empty complex array \n",
    "material_nk_data_Al2O3 = np.zeros((len(wl_Al2O3),2),dtype=complex)\n",
    "\n",
    "for i in range(len(wl_Al2O3)):\n",
    "    material_nk_data_Al2O3[i,0] = complex(wl_Al2O3.iloc[i],0)\n",
    "    material_nk_data_Al2O3[i,1] = complex(n_Al2O3.iloc[i],k_Al2O3.iloc[i])"
   ]
  },
  {
   "cell_type": "code",
   "execution_count": 8,
   "metadata": {},
   "outputs": [
    {
     "data": {
      "text/plain": [
       "[<matplotlib.lines.Line2D at 0x1bc83576e50>]"
      ]
     },
     "execution_count": 8,
     "metadata": {},
     "output_type": "execute_result"
    },
    {
     "data": {
      "image/png": "[encoded data removed]",
      "text/plain": [
       "<Figure size 640x480 with 1 Axes>"
      ]
     },
     "metadata": {},
     "output_type": "display_data"
    }
   ],
   "source": [
    "\n",
    "material_nk_fn = interp1d(material_nk_data[:,0].real,\n",
    "    material_nk_data[:,1], kind='quadratic')\n",
    "\n",
    "material_nk_fn_Si = interp1d(material_nk_data_Si[:,0].real,\n",
    "    material_nk_data_Si[:,1], kind='quadratic')\n",
    "\n",
    "material_nk_fn_SiO2 = interp1d(material_nk_data_SiO2[:,0].real,\n",
    "    material_nk_data_SiO2[:,1], kind='quadratic')\n",
    "\n",
    "material_nk_fn_Al2O3 = interp1d(material_nk_data_Al2O3[:,0].real,\n",
    "    material_nk_data_Al2O3[:,1], kind='quadratic')\n",
    "\n",
    "material_nk_fn_Gr = interp1d(material_nk_data_Gr[:,0].real,\n",
    "    material_nk_data_Gr[:,1], kind='quadratic')\n",
    "\n",
    "#d_list = [inf,30,80,40,40,100,90,inf]\n",
    "air_n_fn = lambda wavelength : 1\n",
    "\n",
    "#n_fn_list = [air_n_fn, material_nk_fn,material_nk_fn_Al2O3, material_nk_fn_Al2O3, material_nk_fn_Al2O3, material_nk_fn, material_nk_fn_SiO2,material_nk_fn_Si]\n",
    "d_list = [inf,\n",
    "          30,\n",
    "          80,\n",
    "          0.34,\n",
    "          40,\n",
    "          0.34,\n",
    "          40,\n",
    "          100,\n",
    "          90,\n",
    "          inf]\n",
    "\n",
    "n_fn_list = [air_n_fn, \n",
    "            material_nk_fn,\n",
    "            material_nk_fn_Al2O3,\n",
    "            material_nk_fn_Gr, \n",
    "            material_nk_fn_Al2O3,\n",
    "            material_nk_fn_Gr, \n",
    "            material_nk_fn_Al2O3, \n",
    "            material_nk_fn, \n",
    "            material_nk_fn_SiO2,\n",
    "            air_n_fn]\n",
    "\n",
    "R=[] \n",
    "T=[]\n",
    "coh_tmm_data=[]\n",
    "\n",
    "#todo. CHECK THE MAX RANGE OF WAVELENGHTS now it is important to give a range inside all the files wavlenghts range\n",
    "\n",
    "lambda_vac_list = arange(250,1000)\n",
    "num_layers = len(n_fn_list)\n",
    "#Incidence angle\n",
    "th_0=0\n",
    "for lam_vac in lambda_vac_list:\n",
    "    # For normal incidence, s and p polarizations are identical.\n",
    "    n_list = [n_fn_list[i](lam_vac) for i in range(num_layers)]\n",
    "    R.append(coh_tmm('s',n_list, d_list, th_0, lam_vac)['R'])\n",
    "    T.append(coh_tmm('s',n_list, d_list, th_0, lam_vac)['T'])\n",
    "    \n",
    "    #coh_tmm calculates data for every wl\n",
    "    coh_tmm_data.append(coh_tmm('p',n_list,d_list,th_0,lam_vac))\n",
    "    \n",
    "             \n",
    "plt.figure()\n",
    "plt.plot(lambda_vac_list,R,'blue')\n",
    "plt.plot(lambda_vac_list,T,'red')"
   ]
  },
  {
   "cell_type": "code",
   "execution_count": 13,
   "metadata": {},
   "outputs": [
    {
     "data": {
      "text/plain": [
       "[<matplotlib.lines.Line2D at 0x1bc837a40d0>,\n",
       " <matplotlib.lines.Line2D at 0x1bc837a4100>,\n",
       " <matplotlib.lines.Line2D at 0x1bc837a41f0>,\n",
       " <matplotlib.lines.Line2D at 0x1bc837a42e0>,\n",
       " <matplotlib.lines.Line2D at 0x1bc837a43d0>,\n",
       " <matplotlib.lines.Line2D at 0x1bc837a44c0>,\n",
       " <matplotlib.lines.Line2D at 0x1bc837a45b0>,\n",
       " <matplotlib.lines.Line2D at 0x1bc837a46a0>]"
      ]
     },
     "execution_count": 13,
     "metadata": {},
     "output_type": "execute_result"
    },
    {
     "data": {
      "image/png": "[encoded data removed]",
      "text/plain": [
       "<Figure size 640x480 with 1 Axes>"
      ]
     },
     "metadata": {},
     "output_type": "display_data"
    }
   ],
   "source": [
    "E=np.zeros((len(coh_tmm_data),(len(d_list)-2)), dtype=complex)\n",
    "thick=[]\n",
    "for lam_vac_2 in range(len(coh_tmm_data)):\n",
    "\n",
    "    \n",
    "    thick = d_list[1:len(d_list)-1]\n",
    "\n",
    "    \n",
    "    for d in range(len(thick)-1):\n",
    "        E[lam_vac_2][d]= position_resolved2(d,thick[d],coh_tmm_data[lam_vac_2])['Ex']\n",
    "plt.figure()\n",
    "plt.plot(lambda_vac_list,E)\n",
    "\n"
   ]
  },
  {
   "cell_type": "code",
   "execution_count": 134,
   "metadata": {},
   "outputs": [
    {
     "ename": "IndexError",
     "evalue": "index 750 is out of bounds for axis 0 with size 750",
     "output_type": "error",
     "traceback": [
      "\u001b[1;31m---------------------------------------------------------------------------\u001b[0m",
      "\u001b[1;31mIndexError\u001b[0m                                Traceback (most recent call last)",
      "Cell \u001b[1;32mIn[134], line 1\u001b[0m\n\u001b[1;32m----> 1\u001b[0m \u001b[43mE\u001b[49m\u001b[43m[\u001b[49m\u001b[38;5;241;43m750\u001b[39;49m\u001b[43m]\u001b[49m\n",
      "\u001b[1;31mIndexError\u001b[0m: index 750 is out of bounds for axis 0 with size 750"
     ]
    }
   ],
   "source": [
    "E[750]"
   ]
  },
  {
   "cell_type": "code",
   "execution_count": 12,
   "metadata": {},
   "outputs": [],
   "source": [
    "def position_resolved2(layer, distance, coh_tmm_data):\n",
    "    \"\"\"\n",
    "    Starting with output of coh_tmm(), calculate the Poynting vector,\n",
    "    absorbed energy density, and E-field at a specific location. The\n",
    "    location is defined by (layer, distance), defined the same way as in\n",
    "    find_in_structure_with_inf(...).\n",
    "\n",
    "    Returns a dictionary containing:\n",
    "\n",
    "    * poyn - the component of Poynting vector normal to the interfaces\n",
    "    * absor - the absorbed energy density at that point\n",
    "    * Ex and Ey and Ez - the electric field amplitudes, where\n",
    "      z is normal to the interfaces and the light rays are in the x,z plane.\n",
    "\n",
    "    The E-field is in units where the incoming |E|=1; see\n",
    "    https://arxiv.org/pdf/1603.02720.pdf for formulas.\n",
    "    \"\"\"\n",
    "    if layer > 0:\n",
    "        v,w = coh_tmm_data['vw_list'][layer]\n",
    "    else:\n",
    "        v = 1\n",
    "        w = coh_tmm_data['r']\n",
    "    kz = coh_tmm_data['kz_list'][layer]\n",
    "    th = coh_tmm_data['th_list'][layer]\n",
    "    n = coh_tmm_data['n_list'][layer]\n",
    "    n_0 = coh_tmm_data['n_list'][0]\n",
    "    th_0 = coh_tmm_data['th_0']\n",
    "    pol = coh_tmm_data['pol']\n",
    "\n",
    "    #assert ((layer >= 1 and 0 <= distance <= coh_tmm_data['d_list'][layer])\n",
    "     #           or (layer == 0 and distance <= 0))\n",
    "\n",
    "    # Amplitude of forward-moving wave is Ef, backwards is Eb\n",
    "    Ef = v * np.exp(1j * kz * distance)\n",
    "    Eb = w * np.exp(-1j * kz * distance)\n",
    "\n",
    "    # Poynting vector\n",
    "    if pol == 's':\n",
    "        poyn = ((n*np.cos(th)*np.conj(Ef+Eb)*(Ef-Eb)).real) / (n_0*np.cos(th_0)).real\n",
    "    elif pol == 'p':\n",
    "        poyn = (((n*np.conj(np.cos(th))*(Ef+Eb)*np.conj(Ef-Eb)).real)\n",
    "                    / (n_0*np.conj(np.cos(th_0))).real)\n",
    "\n",
    "    # Absorbed energy density\n",
    "    if pol == 's':\n",
    "        absor = (n*np.cos(th)*kz*np.abs(Ef+Eb)**2).imag / (n_0*np.cos(th_0)).real\n",
    "    elif pol == 'p':\n",
    "        absor = (n*np.conj(np.cos(th))*\n",
    "                 (kz*np.abs(Ef-Eb)**2-np.conj(kz)*np.abs(Ef+Eb)**2)\n",
    "                ).imag / (n_0*np.conj(np.cos(th_0))).real\n",
    "\n",
    "    # Electric field\n",
    "    if pol == 's':\n",
    "        Ex = 0\n",
    "        Ey = Ef + Eb\n",
    "        Ez = 0\n",
    "    elif pol == 'p':\n",
    "        Ex = (Ef - Eb) * np.cos(th)\n",
    "        Ey = 0\n",
    "        Ez = (-Ef - Eb) * np.sin(th)\n",
    "\n",
    "    return {'poyn': poyn, 'absor': absor, 'Ex': Ex, 'Ey': Ey, 'Ez': Ez}"
   ]
  },
  {
   "cell_type": "code",
   "execution_count": 31,
   "metadata": {},
   "outputs": [
    {
     "ename": "SyntaxError",
     "evalue": "invalid syntax (2484352132.py, line 1)",
     "output_type": "error",
     "traceback": [
      "\u001b[1;36m  Cell \u001b[1;32mIn[31], line 1\u001b[1;36m\u001b[0m\n\u001b[1;33m    for layer in range(len(d_list))\u001b[0m\n\u001b[1;37m                                   ^\u001b[0m\n\u001b[1;31mSyntaxError\u001b[0m\u001b[1;31m:\u001b[0m invalid syntax\n"
     ]
    }
   ],
   "source": [
    "for layer in range(len(d_list))\n",
    "    kz = coh_tmm_data[2]['kz_list']\n",
    "    Ef.append(math.exp(1j * kz * 20))"
   ]
  },
  {
   "cell_type": "code",
   "execution_count": null,
   "metadata": {},
   "outputs": [
    {
     "data": {
      "text/plain": [
       "array([0.0241661 +0.j        , 0.03693591+0.06704503j,\n",
       "       0.0241661 +0.j        ])"
      ]
     },
     "execution_count": 67,
     "metadata": {},
     "output_type": "execute_result"
    }
   ],
   "source": [
    "coh_tmm_data[10]['kz_list']"
   ]
  },
  {
   "cell_type": "code",
   "execution_count": null,
   "metadata": {},
   "outputs": [],
   "source": [
    "This error generally occurs whenever we try to access the list using indexes but give strings instead of integers or slices \n",
    "in place of either the start point, end point, or step value. The most co\n",
    "mmon solution to this problem is explicitly typecasting the index to an integer. "
   ]
  },
  {
   "cell_type": "code",
   "execution_count": null,
   "metadata": {},
   "outputs": [
    {
     "ename": "AssertionError",
     "evalue": "",
     "output_type": "error",
     "traceback": [
      "\u001b[1;31m---------------------------------------------------------------------------\u001b[0m",
      "\u001b[1;31mAssertionError\u001b[0m                            Traceback (most recent call last)",
      "Cell \u001b[1;32mIn[24], line 1\u001b[0m\n\u001b[1;32m----> 1\u001b[0m \u001b[38;5;28;01massert\u001b[39;00m ((layers \u001b[38;5;241m>\u001b[39m\u001b[38;5;241m=\u001b[39m \u001b[38;5;241m1\u001b[39m \u001b[38;5;129;01mand\u001b[39;00m \u001b[38;5;241m0\u001b[39m \u001b[38;5;241m<\u001b[39m\u001b[38;5;241m=\u001b[39m \u001b[38;5;241m20\u001b[39m \u001b[38;5;241m<\u001b[39m\u001b[38;5;241m=\u001b[39m coh_tmm_data[layers][\u001b[38;5;124m'\u001b[39m\u001b[38;5;124md_list\u001b[39m\u001b[38;5;124m'\u001b[39m])\n\u001b[0;32m      2\u001b[0m             \u001b[38;5;129;01mor\u001b[39;00m (layers \u001b[38;5;241m==\u001b[39m \u001b[38;5;241m0\u001b[39m \u001b[38;5;129;01mand\u001b[39;00m \u001b[38;5;241m20\u001b[39m \u001b[38;5;241m<\u001b[39m\u001b[38;5;241m=\u001b[39m \u001b[38;5;241m0\u001b[39m))\n",
      "\u001b[1;31mAssertionError\u001b[0m: "
     ]
    }
   ],
   "source": []
  },
  {
   "cell_type": "code",
   "execution_count": null,
   "metadata": {},
   "outputs": [],
   "source": []
  }
 ],
 "metadata": {
  "kernelspec": {
   "display_name": "Python 3",
   "language": "python",
   "name": "python3"
  },
  "language_info": {
   "codemirror_mode": {
    "name": "ipython",
    "version": 3
   },
   "file_extension": ".py",
   "mimetype": "text/x-python",
   "name": "python",
   "nbconvert_exporter": "python",
   "pygments_lexer": "ipython3",
   "version": "3.9.13"
  }
 },
 "nbformat": 4,
 "nbformat_minor": 2
}
